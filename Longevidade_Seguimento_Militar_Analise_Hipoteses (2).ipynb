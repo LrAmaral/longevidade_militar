{
  "cells": [
    {
      "cell_type": "markdown",
      "id": "7f9e22a5",
      "metadata": {
        "id": "7f9e22a5"
      },
      "source": [
        "# Análise Descritiva: Longevidade no Seguimento Militar"
      ]
    },
    {
      "cell_type": "markdown",
      "id": "89990d73",
      "metadata": {
        "id": "89990d73"
      },
      "source": [
        "## Introdução\n",
        "Este estudo visa analisar a longevidade de indivíduos do seguimento militar, explorando estatísticas descritivas como distribuição de idade, medidas de centralidade e variabilidade dos dados."
      ]
    },
    {
      "cell_type": "code",
      "execution_count": 75,
      "id": "6756ce25",
      "metadata": {
        "colab": {
          "base_uri": "https://localhost:8080/",
          "height": 449
        },
        "id": "6756ce25",
        "outputId": "9262ad88-df7a-4ee7-c512-6e5a8ded5ba2"
      },
      "outputs": [
        {
          "name": "stdout",
          "output_type": "stream",
          "text": [
            "Drive already mounted at /content/drive; to attempt to forcibly remount, call drive.mount(\"/content/drive\", force_remount=True).\n",
            "Occupation\n",
            "Police officer                               1062\n",
            "General officer                               230\n",
            "Vicar general                                  71\n",
            "General practitioner                           60\n",
            "Lieutenant general                             19\n",
            "                                             ... \n",
            "Police officer; statistician                    1\n",
            "General of the infantry (imperial russia)       1\n",
            "Governor-general; amtmann                       1\n",
            "Generalstabsoffizier                            1\n",
            "Attorney general                                1\n",
            "Name: count, Length: 134, dtype: int64\n"
          ]
        },
        {
          "data": {
            "application/vnd.google.colaboratory.intrinsic+json": {
              "summary": "{\n  \"name\": \"military_df\",\n  \"rows\": 1662,\n  \"fields\": [\n    {\n      \"column\": \"Birth year\",\n      \"properties\": {\n        \"dtype\": \"number\",\n        \"std\": 133,\n        \"min\": 161,\n        \"max\": 1994,\n        \"num_unique_values\": 321,\n        \"samples\": [\n          1862,\n          1932,\n          1726\n        ],\n        \"semantic_type\": \"\",\n        \"description\": \"\"\n      }\n    },\n    {\n      \"column\": \"Death year\",\n      \"properties\": {\n        \"dtype\": \"number\",\n        \"std\": 135.47306291910553,\n        \"min\": 210.0,\n        \"max\": 2021.0,\n        \"num_unique_values\": 296,\n        \"samples\": [\n          1839.0,\n          1763.0,\n          2004.0\n        ],\n        \"semantic_type\": \"\",\n        \"description\": \"\"\n      }\n    },\n    {\n      \"column\": \"Age of death\",\n      \"properties\": {\n        \"dtype\": \"number\",\n        \"std\": 18.790713103768038,\n        \"min\": 11.0,\n        \"max\": 99.0,\n        \"num_unique_values\": 86,\n        \"samples\": [\n          30.0,\n          62.0,\n          94.0\n        ],\n        \"semantic_type\": \"\",\n        \"description\": \"\"\n      }\n    }\n  ]\n}",
              "type": "dataframe",
              "variable_name": "military_df"
            },
            "text/html": [
              "\n",
              "  <div id=\"df-e4f71163-f34c-4c22-8b88-f910d33667e5\" class=\"colab-df-container\">\n",
              "    <div>\n",
              "<style scoped>\n",
              "    .dataframe tbody tr th:only-of-type {\n",
              "        vertical-align: middle;\n",
              "    }\n",
              "\n",
              "    .dataframe tbody tr th {\n",
              "        vertical-align: top;\n",
              "    }\n",
              "\n",
              "    .dataframe thead th {\n",
              "        text-align: right;\n",
              "    }\n",
              "</style>\n",
              "<table border=\"1\" class=\"dataframe\">\n",
              "  <thead>\n",
              "    <tr style=\"text-align: right;\">\n",
              "      <th></th>\n",
              "      <th>Birth year</th>\n",
              "      <th>Death year</th>\n",
              "      <th>Age of death</th>\n",
              "    </tr>\n",
              "  </thead>\n",
              "  <tbody>\n",
              "    <tr>\n",
              "      <th>5441</th>\n",
              "      <td>1831</td>\n",
              "      <td>1893.0</td>\n",
              "      <td>62.0</td>\n",
              "    </tr>\n",
              "    <tr>\n",
              "      <th>6492</th>\n",
              "      <td>1813</td>\n",
              "      <td>1885.0</td>\n",
              "      <td>72.0</td>\n",
              "    </tr>\n",
              "    <tr>\n",
              "      <th>6869</th>\n",
              "      <td>1897</td>\n",
              "      <td>1969.0</td>\n",
              "      <td>72.0</td>\n",
              "    </tr>\n",
              "    <tr>\n",
              "      <th>7993</th>\n",
              "      <td>1715</td>\n",
              "      <td>1781.0</td>\n",
              "      <td>66.0</td>\n",
              "    </tr>\n",
              "    <tr>\n",
              "      <th>8093</th>\n",
              "      <td>1927</td>\n",
              "      <td>2014.0</td>\n",
              "      <td>87.0</td>\n",
              "    </tr>\n",
              "  </tbody>\n",
              "</table>\n",
              "</div>\n",
              "    <div class=\"colab-df-buttons\">\n",
              "\n",
              "  <div class=\"colab-df-container\">\n",
              "    <button class=\"colab-df-convert\" onclick=\"convertToInteractive('df-e4f71163-f34c-4c22-8b88-f910d33667e5')\"\n",
              "            title=\"Convert this dataframe to an interactive table.\"\n",
              "            style=\"display:none;\">\n",
              "\n",
              "  <svg xmlns=\"http://www.w3.org/2000/svg\" height=\"24px\" viewBox=\"0 -960 960 960\">\n",
              "    <path d=\"M120-120v-720h720v720H120Zm60-500h600v-160H180v160Zm220 220h160v-160H400v160Zm0 220h160v-160H400v160ZM180-400h160v-160H180v160Zm440 0h160v-160H620v160ZM180-180h160v-160H180v160Zm440 0h160v-160H620v160Z\"/>\n",
              "  </svg>\n",
              "    </button>\n",
              "\n",
              "  <style>\n",
              "    .colab-df-container {\n",
              "      display:flex;\n",
              "      gap: 12px;\n",
              "    }\n",
              "\n",
              "    .colab-df-convert {\n",
              "      background-color: #E8F0FE;\n",
              "      border: none;\n",
              "      border-radius: 50%;\n",
              "      cursor: pointer;\n",
              "      display: none;\n",
              "      fill: #1967D2;\n",
              "      height: 32px;\n",
              "      padding: 0 0 0 0;\n",
              "      width: 32px;\n",
              "    }\n",
              "\n",
              "    .colab-df-convert:hover {\n",
              "      background-color: #E2EBFA;\n",
              "      box-shadow: 0px 1px 2px rgba(60, 64, 67, 0.3), 0px 1px 3px 1px rgba(60, 64, 67, 0.15);\n",
              "      fill: #174EA6;\n",
              "    }\n",
              "\n",
              "    .colab-df-buttons div {\n",
              "      margin-bottom: 4px;\n",
              "    }\n",
              "\n",
              "    [theme=dark] .colab-df-convert {\n",
              "      background-color: #3B4455;\n",
              "      fill: #D2E3FC;\n",
              "    }\n",
              "\n",
              "    [theme=dark] .colab-df-convert:hover {\n",
              "      background-color: #434B5C;\n",
              "      box-shadow: 0px 1px 3px 1px rgba(0, 0, 0, 0.15);\n",
              "      filter: drop-shadow(0px 1px 2px rgba(0, 0, 0, 0.3));\n",
              "      fill: #FFFFFF;\n",
              "    }\n",
              "  </style>\n",
              "\n",
              "    <script>\n",
              "      const buttonEl =\n",
              "        document.querySelector('#df-e4f71163-f34c-4c22-8b88-f910d33667e5 button.colab-df-convert');\n",
              "      buttonEl.style.display =\n",
              "        google.colab.kernel.accessAllowed ? 'block' : 'none';\n",
              "\n",
              "      async function convertToInteractive(key) {\n",
              "        const element = document.querySelector('#df-e4f71163-f34c-4c22-8b88-f910d33667e5');\n",
              "        const dataTable =\n",
              "          await google.colab.kernel.invokeFunction('convertToInteractive',\n",
              "                                                    [key], {});\n",
              "        if (!dataTable) return;\n",
              "\n",
              "        const docLinkHtml = 'Like what you see? Visit the ' +\n",
              "          '<a target=\"_blank\" href=https://colab.research.google.com/notebooks/data_table.ipynb>data table notebook</a>'\n",
              "          + ' to learn more about interactive tables.';\n",
              "        element.innerHTML = '';\n",
              "        dataTable['output_type'] = 'display_data';\n",
              "        await google.colab.output.renderOutput(dataTable, element);\n",
              "        const docLink = document.createElement('div');\n",
              "        docLink.innerHTML = docLinkHtml;\n",
              "        element.appendChild(docLink);\n",
              "      }\n",
              "    </script>\n",
              "  </div>\n",
              "\n",
              "\n",
              "<div id=\"df-f06e7032-5acb-49c3-8674-7564b7da8a64\">\n",
              "  <button class=\"colab-df-quickchart\" onclick=\"quickchart('df-f06e7032-5acb-49c3-8674-7564b7da8a64')\"\n",
              "            title=\"Suggest charts\"\n",
              "            style=\"display:none;\">\n",
              "\n",
              "<svg xmlns=\"http://www.w3.org/2000/svg\" height=\"24px\"viewBox=\"0 0 24 24\"\n",
              "     width=\"24px\">\n",
              "    <g>\n",
              "        <path d=\"M19 3H5c-1.1 0-2 .9-2 2v14c0 1.1.9 2 2 2h14c1.1 0 2-.9 2-2V5c0-1.1-.9-2-2-2zM9 17H7v-7h2v7zm4 0h-2V7h2v10zm4 0h-2v-4h2v4z\"/>\n",
              "    </g>\n",
              "</svg>\n",
              "  </button>\n",
              "\n",
              "<style>\n",
              "  .colab-df-quickchart {\n",
              "      --bg-color: #E8F0FE;\n",
              "      --fill-color: #1967D2;\n",
              "      --hover-bg-color: #E2EBFA;\n",
              "      --hover-fill-color: #174EA6;\n",
              "      --disabled-fill-color: #AAA;\n",
              "      --disabled-bg-color: #DDD;\n",
              "  }\n",
              "\n",
              "  [theme=dark] .colab-df-quickchart {\n",
              "      --bg-color: #3B4455;\n",
              "      --fill-color: #D2E3FC;\n",
              "      --hover-bg-color: #434B5C;\n",
              "      --hover-fill-color: #FFFFFF;\n",
              "      --disabled-bg-color: #3B4455;\n",
              "      --disabled-fill-color: #666;\n",
              "  }\n",
              "\n",
              "  .colab-df-quickchart {\n",
              "    background-color: var(--bg-color);\n",
              "    border: none;\n",
              "    border-radius: 50%;\n",
              "    cursor: pointer;\n",
              "    display: none;\n",
              "    fill: var(--fill-color);\n",
              "    height: 32px;\n",
              "    padding: 0;\n",
              "    width: 32px;\n",
              "  }\n",
              "\n",
              "  .colab-df-quickchart:hover {\n",
              "    background-color: var(--hover-bg-color);\n",
              "    box-shadow: 0 1px 2px rgba(60, 64, 67, 0.3), 0 1px 3px 1px rgba(60, 64, 67, 0.15);\n",
              "    fill: var(--button-hover-fill-color);\n",
              "  }\n",
              "\n",
              "  .colab-df-quickchart-complete:disabled,\n",
              "  .colab-df-quickchart-complete:disabled:hover {\n",
              "    background-color: var(--disabled-bg-color);\n",
              "    fill: var(--disabled-fill-color);\n",
              "    box-shadow: none;\n",
              "  }\n",
              "\n",
              "  .colab-df-spinner {\n",
              "    border: 2px solid var(--fill-color);\n",
              "    border-color: transparent;\n",
              "    border-bottom-color: var(--fill-color);\n",
              "    animation:\n",
              "      spin 1s steps(1) infinite;\n",
              "  }\n",
              "\n",
              "  @keyframes spin {\n",
              "    0% {\n",
              "      border-color: transparent;\n",
              "      border-bottom-color: var(--fill-color);\n",
              "      border-left-color: var(--fill-color);\n",
              "    }\n",
              "    20% {\n",
              "      border-color: transparent;\n",
              "      border-left-color: var(--fill-color);\n",
              "      border-top-color: var(--fill-color);\n",
              "    }\n",
              "    30% {\n",
              "      border-color: transparent;\n",
              "      border-left-color: var(--fill-color);\n",
              "      border-top-color: var(--fill-color);\n",
              "      border-right-color: var(--fill-color);\n",
              "    }\n",
              "    40% {\n",
              "      border-color: transparent;\n",
              "      border-right-color: var(--fill-color);\n",
              "      border-top-color: var(--fill-color);\n",
              "    }\n",
              "    60% {\n",
              "      border-color: transparent;\n",
              "      border-right-color: var(--fill-color);\n",
              "    }\n",
              "    80% {\n",
              "      border-color: transparent;\n",
              "      border-right-color: var(--fill-color);\n",
              "      border-bottom-color: var(--fill-color);\n",
              "    }\n",
              "    90% {\n",
              "      border-color: transparent;\n",
              "      border-bottom-color: var(--fill-color);\n",
              "    }\n",
              "  }\n",
              "</style>\n",
              "\n",
              "  <script>\n",
              "    async function quickchart(key) {\n",
              "      const quickchartButtonEl =\n",
              "        document.querySelector('#' + key + ' button');\n",
              "      quickchartButtonEl.disabled = true;  // To prevent multiple clicks.\n",
              "      quickchartButtonEl.classList.add('colab-df-spinner');\n",
              "      try {\n",
              "        const charts = await google.colab.kernel.invokeFunction(\n",
              "            'suggestCharts', [key], {});\n",
              "      } catch (error) {\n",
              "        console.error('Error during call to suggestCharts:', error);\n",
              "      }\n",
              "      quickchartButtonEl.classList.remove('colab-df-spinner');\n",
              "      quickchartButtonEl.classList.add('colab-df-quickchart-complete');\n",
              "    }\n",
              "    (() => {\n",
              "      let quickchartButtonEl =\n",
              "        document.querySelector('#df-f06e7032-5acb-49c3-8674-7564b7da8a64 button');\n",
              "      quickchartButtonEl.style.display =\n",
              "        google.colab.kernel.accessAllowed ? 'block' : 'none';\n",
              "    })();\n",
              "  </script>\n",
              "</div>\n",
              "\n",
              "    </div>\n",
              "  </div>\n"
            ],
            "text/plain": [
              "      Birth year  Death year  Age of death\n",
              "5441        1831      1893.0          62.0\n",
              "6492        1813      1885.0          72.0\n",
              "6869        1897      1969.0          72.0\n",
              "7993        1715      1781.0          66.0\n",
              "8093        1927      2014.0          87.0"
            ]
          },
          "execution_count": 75,
          "metadata": {},
          "output_type": "execute_result"
        }
      ],
      "source": [
        "import pandas as pd\n",
        "import matplotlib.pyplot as plt\n",
        "import seaborn as sns\n",
        "import numpy as np\n",
        "\n",
        "from google.colab import drive\n",
        "drive.mount('/content/drive')\n",
        "\n",
        "path = \"/content/drive/MyDrive/Análise de Dados/Dados\"\n",
        "\n",
        "df = pd.read_csv(path + '/age_dataset.csv')\n",
        "\n",
        "military_df = df[df['Occupation'].str.contains('police officer|general', case=False, na=False)]\n",
        "\n",
        "# Contar o número de registros por cada ocupação militar\n",
        "military_occupation_counts = military_df['Occupation'].value_counts()\n",
        "\n",
        "# Exibir o número de registros por ocupação\n",
        "print(military_occupation_counts)\n",
        "\n",
        "military_df = military_df[['Birth year', 'Death year', 'Age of death']]\n",
        "military_df.dropna(inplace=True)\n",
        "military_df.head()"
      ]
    },
    {
      "cell_type": "markdown",
      "id": "eb9d6013",
      "metadata": {
        "id": "eb9d6013"
      },
      "source": [
        "## Distribuição dos Dados"
      ]
    },
    {
      "cell_type": "code",
      "execution_count": 76,
      "id": "2bc5690e",
      "metadata": {
        "colab": {
          "base_uri": "https://localhost:8080/",
          "height": 487
        },
        "id": "2bc5690e",
        "outputId": "76d5ee18-3b0d-4e92-f5a9-f69c9a2577a1"
      },
      "outputs": [
        {
          "data": {
            "image/png": "[encoded data removed]",
            "text/plain": [
              "<Figure size 1000x500 with 1 Axes>"
            ]
          },
          "metadata": {},
          "output_type": "display_data"
        }
      ],
      "source": [
        "plt.figure(figsize=(10, 5))\n",
        "sns.histplot(military_df['Age of death'], kde=True)\n",
        "plt.title('Distribuição de Idade ao Falecer (Seguimento Militar)')\n",
        "plt.xlabel('Idade ao Falecer')\n",
        "plt.ylabel('Frequência')\n",
        "\n",
        "plt.show()"
      ]
    },
    {
      "cell_type": "code",
      "execution_count": 70,
      "id": "1b04ccd3",
      "metadata": {
        "colab": {
          "base_uri": "https://localhost:8080/",
          "height": 487
        },
        "id": "1b04ccd3",
        "outputId": "5424eddc-0a20-4321-e3eb-4105101960d1"
      },
      "outputs": [
        {
          "data": {
            "image/png": "[encoded data removed]",
            "text/plain": [
              "<Figure size 800x500 with 1 Axes>"
            ]
          },
          "metadata": {},
          "output_type": "display_data"
        }
      ],
      "source": [
        "plt.figure(figsize=(8, 5))\n",
        "sns.boxplot(x=military_df['Age of death'], showfliers=False)\n",
        "plt.title('Boxplot de Idade ao Falecer (Seguimento Militar)')\n",
        "plt.xlabel('Idade ao Falecer')\n",
        "plt.show()"
      ]
    },
    {
      "cell_type": "markdown",
      "id": "c1c1e0be",
      "metadata": {
        "id": "c1c1e0be"
      },
      "source": [
        "## Medidas de Centralidade"
      ]
    },
    {
      "cell_type": "code",
      "execution_count": 77,
      "id": "98aeb484",
      "metadata": {
        "colab": {
          "base_uri": "https://localhost:8080/"
        },
        "id": "98aeb484",
        "outputId": "b481dc17-add1-408b-933f-b2a9f07a6b45"
      },
      "outputs": [
        {
          "name": "stdout",
          "output_type": "stream",
          "text": [
            "Idade média de morte: 66 anos\n",
            "Idade mediana de morte: 70 anos\n",
            "Moda das idades de morte: 82 anos\n"
          ]
        }
      ],
      "source": [
        "# Cálculos das medidas de tendência central\n",
        "mean_age = military_df['Age of death'].mean()\n",
        "median_age = military_df['Age of death'].median()\n",
        "mode_age = military_df['Age of death'].mode()[0]\n",
        "\n",
        "\n",
        "print(f\"Idade média de morte: {int(mean_age)} anos\")\n",
        "print(f\"Idade mediana de morte: {int(median_age)} anos\")\n",
        "print(f\"Moda das idades de morte: {int(mode_age)} anos\")"
      ]
    },
    {
      "cell_type": "markdown",
      "id": "3b226e88",
      "metadata": {
        "id": "3b226e88"
      },
      "source": [
        "## Medidas de Variação"
      ]
    },
    {
      "cell_type": "code",
      "execution_count": 74,
      "id": "a844e970",
      "metadata": {
        "colab": {
          "base_uri": "https://localhost:8080/"
        },
        "id": "a844e970",
        "outputId": "77f28087-c8e3-4fa3-a57e-f5a482e4b7aa"
      },
      "outputs": [
        {
          "name": "stdout",
          "output_type": "stream",
          "text": [
            "Desvio padrão das idades de morte: 18 anos\n",
            "Intervalo Interquartil (IQR) das idades de morte: 27 anos\n"
          ]
        }
      ],
      "source": [
        "std_dev_age = military_df['Age of death'].std()\n",
        "iqr_age = military_df['Age of death'].quantile(0.75) - military_df['Age of death'].quantile(0.25)\n",
        "\n",
        "print(f\"Desvio padrão das idades de morte: {int(std_dev_age)} anos\")\n",
        "print(f\"Intervalo Interquartil (IQR) das idades de morte: {int(iqr_age)} anos\")"
      ]
    },
    {
      "cell_type": "markdown",
      "id": "b109a2a1",
      "metadata": {
        "id": "b109a2a1"
      },
      "source": [
        "## Formulação e Demonstração de Hipótese"
      ]
    },
    {
      "cell_type": "markdown",
      "id": "78f3fcb2",
      "metadata": {
        "id": "78f3fcb2"
      },
      "source": [
        "### Hipótese\n",
        "A hipótese exploratória definida para este estudo é:\n",
        "\n",
        "**\"A média de idade ao falecer é maior para indivíduos de ocupações militares e paramilitares de alto escalão (como generais, comandantes) em comparação com indivíduos de baixo escalão (soldados da polícia militar).\"**\n",
        "\n",
        "Para testar essa hipótese, iremos comparar as médias e outras estatísticas descritivas da idade ao falecer entre os dois grupos."
      ]
    },
    {
      "cell_type": "code",
      "execution_count": 80,
      "id": "2dbb6d70",
      "metadata": {
        "colab": {
          "base_uri": "https://localhost:8080/",
          "height": 720
        },
        "id": "2dbb6d70",
        "outputId": "331ecbb3-89d8-4b59-e27c-ba7a46664643"
      },
      "outputs": [
        {
          "name": "stdout",
          "output_type": "stream",
          "text": [
            "Estatísticas descritivas por escalão:\n",
            "           mean  median        std  count\n",
            "Rank                                     \n",
            "High  70.024194    71.0  14.923218    496\n",
            "Low   64.723605    69.0  19.953016   1165\n",
            "\n",
            "Resultados do Teste T:\n",
            "T-Statistic: 5.9609\n",
            "P-Value: 0.0000\n"
          ]
        },
        {
          "data": {
            "image/png": "[encoded data removed]",
            "text/plain": [
              "<Figure size 1000x600 with 1 Axes>"
            ]
          },
          "metadata": {},
          "output_type": "display_data"
        }
      ],
      "source": [
        "# Filtrar para ocupações militares\n",
        "military_df = df[df['Occupation'].str.contains(\"police officer|general|commander\", case=False, na=False)].copy()\n",
        "\n",
        "# Classificar ocupação em alto e baixo escalão para militares\n",
        "military_df['Rank'] = military_df['Occupation'].apply(\n",
        "    lambda x: 'High' if any(rank in str(x).lower() for rank in ['general', 'commander']) else 'Low'\n",
        ")\n",
        "\n",
        "# Calcular IQR (Intervalo Interquartil)\n",
        "Q1 = military_df['Age of death'].quantile(0.25)\n",
        "Q3 = military_df['Age of death'].quantile(0.75)\n",
        "IQR = Q3 - Q1\n",
        "\n",
        "# Definir os limites inferior e superior\n",
        "lower_limit = Q1 - 1.5 * IQR\n",
        "upper_limit = Q3 + 1.5 * IQR\n",
        "\n",
        "# Remover outliers\n",
        "military_df = military_df[(military_df['Age of death'] >= lower_limit) & (military_df['Age of death'] <= upper_limit)]\n",
        "\n",
        "# Agrupar por Rank e calcular as estatísticas para Idade ao Falecer\n",
        "rank_stats_no_outliers = military_df.groupby('Rank')['Age of death'].agg(['mean', 'median', 'std', 'count'])\n",
        "\n",
        "# Dividir os dados em grupos\n",
        "high_rank_no_outliers = military_df[military_df['Rank'] == 'High']['Age of death'].dropna()\n",
        "low_rank_no_outliers = military_df[military_df['Rank'] == 'Low']['Age of death'].dropna()\n",
        "\n",
        "# Realizar o teste T\n",
        "from scipy.stats import ttest_ind\n",
        "t_stat_no_outliers, p_value_no_outliers = ttest_ind(high_rank_no_outliers, low_rank_no_outliers, equal_var=False)\n",
        "\n",
        "# Exibir estatísticas descritivas por escalão\n",
        "print(\"Estatísticas descritivas por escalão:\")\n",
        "print(rank_stats_no_outliers)\n",
        "\n",
        "# Exibir os resultados do Teste T\n",
        "print(\"\\nResultados do Teste T:\")\n",
        "print(f\"T-Statistic: {t_stat_no_outliers:.4f}\")\n",
        "print(f\"P-Value: {p_value_no_outliers:.4f}\")\n",
        "\n",
        "# Visualizar com boxplot\n",
        "plt.figure(figsize=(10, 6))\n",
        "sns.boxplot(x=\"Rank\", y=\"Age of death\", data=military_df, showfliers=False) \n",
        "plt.title('Comparação de Idade ao Falecer por Escalão Militar')\n",
        "plt.xlabel('Escalão Militar')\n",
        "plt.ylabel('Idade ao Falecer')\n",
        "plt.grid(axis='y', linestyle='--', alpha=0.7)\n",
        "plt.show()"
      ]
    },
    {
      "cell_type": "markdown",
      "id": "d162d458",
      "metadata": {
        "id": "d162d458"
      },
      "source": [
        "## Análise Qualitativa dos Resultados"
      ]
    },
    {
      "cell_type": "markdown",
      "id": "mh028AZny-gI",
      "metadata": {
        "id": "mh028AZny-gI"
      },
      "source": [
        "- Média: O alto escalão vive, em média, 70 anos, enquanto o baixo escalão vive 65 anos.\n",
        "\n",
        "- Mediana: A idade central do alto escalão é 71 anos, maior que os 69 anos do baixo escalão.\n",
        "\n",
        "- Desvio Padrão: O baixo escalão tem maior variação na idade ao falecer (20 anos) comparado ao alto escalão (15 anos).\n",
        "\n",
        "- Tamanho da Amostra: O baixo escalão tem mais registros (1165) do que o alto escalão (497)."
      ]
    },
    {
      "cell_type": "markdown",
      "id": "ziOsCrmkzHmH",
      "metadata": {
        "id": "ziOsCrmkzHmH"
      },
      "source": [
        "# Conclusão"
      ]
    },
    {
      "cell_type": "markdown",
      "id": "yPHvBYFezKZ_",
      "metadata": {
        "id": "yPHvBYFezKZ_"
      },
      "source": [
        "A análise confirmou que militares de alto escalão tendem a viver mais do que os de baixo escalão, com uma diferença estatisticamente significativa na longevidade. Isso é evidenciado pela maior média e mediana de idade ao falecer no alto escalão, além de uma menor variabilidade nesses valores, indicando maior consistência na longevidade desse grupo."
      ]
    },
    {
      "cell_type": "markdown",
      "id": "hyFrZQIVzOpH",
      "metadata": {
        "id": "hyFrZQIVzOpH"
      },
      "source": [
        "# Limitações"
      ]
    },
    {
      "cell_type": "markdown",
      "id": "pia5KxsXzQto",
      "metadata": {
        "id": "pia5KxsXzQto"
      },
      "source": [
        "- Possíveis vieses devido a dados desbalanceados;\n",
        "\n",
        "- Falta de variáveis contextuais (como condições de saúde, exposição a riscos ou tempo de serviço);\n",
        "\n",
        "- Exclusão de outras ocupações militares relevantes."
      ]
    }
  ],
  "metadata": {
    "colab": {
      "provenance": []
    },
    "kernelspec": {
      "display_name": "Python 3",
      "name": "python3"
    },
    "language_info": {
      "name": "python"
    }
  },
  "nbformat": 4,
  "nbformat_minor": 5
}
